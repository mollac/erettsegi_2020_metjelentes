{
 "cells": [
  {
   "cell_type": "code",
   "execution_count": 1,
   "metadata": {},
   "outputs": [],
   "source": [
    "import pandas as pd\n",
    "import numpy as np"
   ]
  },
  {
   "cell_type": "code",
   "execution_count": 2,
   "metadata": {},
   "outputs": [
    {
     "name": "stdout",
     "output_type": "stream",
     "text": [
      "1. feladat\n"
     ]
    },
    {
     "data": {
      "text/html": [
       "<div>\n",
       "<style scoped>\n",
       "    .dataframe tbody tr th:only-of-type {\n",
       "        vertical-align: middle;\n",
       "    }\n",
       "\n",
       "    .dataframe tbody tr th {\n",
       "        vertical-align: top;\n",
       "    }\n",
       "\n",
       "    .dataframe thead th {\n",
       "        text-align: right;\n",
       "    }\n",
       "</style>\n",
       "<table border=\"1\" class=\"dataframe\">\n",
       "  <thead>\n",
       "    <tr style=\"text-align: right;\">\n",
       "      <th></th>\n",
       "      <th>varos</th>\n",
       "      <th>temp</th>\n",
       "      <th>ora</th>\n",
       "      <th>perc</th>\n",
       "      <th>szelirany</th>\n",
       "      <th>szelseb</th>\n",
       "    </tr>\n",
       "  </thead>\n",
       "  <tbody>\n",
       "    <tr>\n",
       "      <th>0</th>\n",
       "      <td>BP</td>\n",
       "      <td>23</td>\n",
       "      <td>00</td>\n",
       "      <td>00</td>\n",
       "      <td>VRB</td>\n",
       "      <td>2</td>\n",
       "    </tr>\n",
       "    <tr>\n",
       "      <th>1</th>\n",
       "      <td>DC</td>\n",
       "      <td>23</td>\n",
       "      <td>00</td>\n",
       "      <td>15</td>\n",
       "      <td>150</td>\n",
       "      <td>5</td>\n",
       "    </tr>\n",
       "    <tr>\n",
       "      <th>2</th>\n",
       "      <td>SM</td>\n",
       "      <td>21</td>\n",
       "      <td>00</td>\n",
       "      <td>15</td>\n",
       "      <td>010</td>\n",
       "      <td>13</td>\n",
       "    </tr>\n",
       "    <tr>\n",
       "      <th>3</th>\n",
       "      <td>PA</td>\n",
       "      <td>20</td>\n",
       "      <td>00</td>\n",
       "      <td>15</td>\n",
       "      <td>340</td>\n",
       "      <td>16</td>\n",
       "    </tr>\n",
       "    <tr>\n",
       "      <th>4</th>\n",
       "      <td>SN</td>\n",
       "      <td>24</td>\n",
       "      <td>00</td>\n",
       "      <td>15</td>\n",
       "      <td>170</td>\n",
       "      <td>4</td>\n",
       "    </tr>\n",
       "    <tr>\n",
       "      <th>...</th>\n",
       "      <td>...</td>\n",
       "      <td>...</td>\n",
       "      <td>...</td>\n",
       "      <td>...</td>\n",
       "      <td>...</td>\n",
       "      <td>...</td>\n",
       "    </tr>\n",
       "    <tr>\n",
       "      <th>369</th>\n",
       "      <td>KE</td>\n",
       "      <td>19</td>\n",
       "      <td>23</td>\n",
       "      <td>45</td>\n",
       "      <td>050</td>\n",
       "      <td>4</td>\n",
       "    </tr>\n",
       "    <tr>\n",
       "      <th>370</th>\n",
       "      <td>PA</td>\n",
       "      <td>17</td>\n",
       "      <td>23</td>\n",
       "      <td>45</td>\n",
       "      <td>340</td>\n",
       "      <td>14</td>\n",
       "    </tr>\n",
       "    <tr>\n",
       "      <th>371</th>\n",
       "      <td>DC</td>\n",
       "      <td>21</td>\n",
       "      <td>23</td>\n",
       "      <td>45</td>\n",
       "      <td>350</td>\n",
       "      <td>7</td>\n",
       "    </tr>\n",
       "    <tr>\n",
       "      <th>372</th>\n",
       "      <td>SM</td>\n",
       "      <td>16</td>\n",
       "      <td>23</td>\n",
       "      <td>45</td>\n",
       "      <td>330</td>\n",
       "      <td>10</td>\n",
       "    </tr>\n",
       "    <tr>\n",
       "      <th>373</th>\n",
       "      <td>SN</td>\n",
       "      <td>20</td>\n",
       "      <td>23</td>\n",
       "      <td>53</td>\n",
       "      <td>010</td>\n",
       "      <td>8</td>\n",
       "    </tr>\n",
       "  </tbody>\n",
       "</table>\n",
       "<p>374 rows × 6 columns</p>\n",
       "</div>"
      ],
      "text/plain": [
       "    varos  temp ora perc szelirany  szelseb\n",
       "0      BP    23  00   00       VRB        2\n",
       "1      DC    23  00   15       150        5\n",
       "2      SM    21  00   15       010       13\n",
       "3      PA    20  00   15       340       16\n",
       "4      SN    24  00   15       170        4\n",
       "..    ...   ...  ..  ...       ...      ...\n",
       "369    KE    19  23   45       050        4\n",
       "370    PA    17  23   45       340       14\n",
       "371    DC    21  23   45       350        7\n",
       "372    SM    16  23   45       330       10\n",
       "373    SN    20  23   53       010        8\n",
       "\n",
       "[374 rows x 6 columns]"
      ]
     },
     "execution_count": 2,
     "metadata": {},
     "output_type": "execute_result"
    }
   ],
   "source": [
    "df = pd.read_csv('tavirathu13.txt', delimiter=' ', names=['varos','ido', 'szel','temp'], dtype={'ido': object})\n",
    "df['ora'] = df['ido'].str[0:2]\n",
    "df['perc'] = df['ido'].str[2:]\n",
    "df['szelirany'] = df['szel'].str[0:3]\n",
    "df['szelseb'] = df['szel'].str[3:].astype(int)\n",
    "df.drop(['ido', 'szel'], axis = 1, inplace = True)\n",
    "print('1. feladat')\n",
    "df"
   ]
  },
  {
   "cell_type": "code",
   "execution_count": 3,
   "metadata": {},
   "outputs": [
    {
     "name": "stdout",
     "output_type": "stream",
     "text": [
      "2. feladat\n",
      "Adjon meg egy városkódot:bp\n",
      " BP utolsó mérési időpontja: 23:30\n"
     ]
    }
   ],
   "source": [
    "print('2. feladat')\n",
    "city = input('Adjon meg egy városkódot:').upper()\n",
    "utolso = df[df['varos'] == city].iloc[-1]\n",
    "print(f' {city} utolsó mérési időpontja: {utolso.ora}:{utolso.perc}')"
   ]
  },
  {
   "cell_type": "code",
   "execution_count": 4,
   "metadata": {},
   "outputs": [
    {
     "name": "stdout",
     "output_type": "stream",
     "text": [
      "3. feladat\n",
      "A legalacsonyabb hőmérséklet: SM 23:45 16 fok.\n",
      "A legmagasabb hőmérséklet: DC 13:15 35 fok.\n"
     ]
    }
   ],
   "source": [
    "print('3. feladat')\n",
    "\n",
    "df_min = df[df.temp == df.min().temp]\n",
    "df_max = df[df.temp == df.max().temp]\n",
    "print(f'A legalacsonyabb hőmérséklet: {df_min.iloc[0,0]} {df_min.iloc[0,2]}:{df_min.iloc[0,3]} {df_min.iloc[0,1]} fok.')\n",
    "print(f'A legmagasabb hőmérséklet: {df_max.iloc[0,0]} {df_max.iloc[0,2]}:{df_max.iloc[0,3]} {df_max.iloc[0,1]} fok.')\n",
    "\n"
   ]
  },
  {
   "cell_type": "code",
   "execution_count": 5,
   "metadata": {},
   "outputs": [
    {
     "name": "stdout",
     "output_type": "stream",
     "text": [
      "4. feladat\n",
      "BP 01:00\n",
      "DC 02:15\n",
      "SN 03:15\n",
      "BC 04:45\n",
      "DC 04:45\n",
      "SN 05:15\n",
      "SN 05:45\n",
      "KE 08:45\n",
      "BC 11:45\n"
     ]
    }
   ],
   "source": [
    "print('4. feladat')\n",
    "szel = df[df['szelseb'] == 0]\n",
    "if szel.shape[0] > 1:\n",
    "    for c,h,m in zip(list(szel.varos), list(szel.ora), list(szel.perc)):\n",
    "        print(f'{c} {h}:{m}')\n",
    "else:\n",
    "    print('Nem volt szélcsend a mérések idején')\n"
   ]
  },
  {
   "cell_type": "code",
   "execution_count": 6,
   "metadata": {
    "scrolled": false
   },
   "outputs": [
    {
     "name": "stdout",
     "output_type": "stream",
     "text": [
      "5. feladat\n",
      "BC NA; Hőmérséklet-ingadozás: 14\n",
      "BP Középhőmérséklet: 23; Hőmérséklet-ingadozás: 8\n",
      "DC Középhőmérséklet: 29; Hőmérséklet-ingadozás: 15\n",
      "KE NA; Hőmérséklet-ingadozás: 13\n",
      "PA Középhőmérséklet: 21; Hőmérséklet-ingadozás: 7\n",
      "PP NA; Hőmérséklet-ingadozás: 6\n",
      "PR Középhőmérséklet: 21; Hőmérséklet-ingadozás: 8\n",
      "SM Középhőmérséklet: 22; Hőmérséklet-ingadozás: 8\n",
      "SN Középhőmérséklet: 26; Hőmérséklet-ingadozás: 13\n"
     ]
    }
   ],
   "source": [
    "print('5. feladat')\n",
    "tabla = pd.DataFrame()\n",
    "df_orak = df[df['ora'].isin(['01','07','13','19'])]\n",
    "df_filter = df_orak.groupby(['varos']).count()\n",
    "df_filter = set(df_filter[df_filter['temp']>4].index)\n",
    "\n",
    "df_kozep = df_orak[df_orak['varos'].isin(df_filter)].groupby(['varos'], sort = True).mean()['temp']\n",
    "df_min = df.groupby(['varos']).min()['temp']\n",
    "df_max = df.groupby(['varos']).max()['temp']\n",
    "\n",
    "tabla['ingadozas'] = df_max - df_min\n",
    "tabla['kozep'] = df_kozep.round(0)\n",
    "tabla.fillna('NA', inplace = True)\n",
    "\n",
    "for v,i,k in zip(tabla.index, tabla.ingadozas, tabla.kozep):\n",
    "    if k=='NA':\n",
    "        print(f'{v} {k}; Hőmérséklet-ingadozás: {i}')\n",
    "    else:\n",
    "        print(f'{v} Középhőmérséklet: {int(k)}; Hőmérséklet-ingadozás: {i}')"
   ]
  },
  {
   "cell_type": "code",
   "execution_count": 7,
   "metadata": {},
   "outputs": [
    {
     "name": "stdout",
     "output_type": "stream",
     "text": [
      "6. feladat\n",
      "A fájlok elkészültek.\n"
     ]
    }
   ],
   "source": [
    "print('6. feladat')\n",
    "varosok = set(df.varos)\n",
    "\n",
    "for varos in varosok:\n",
    "    temp = df[df['varos'] == varos]\n",
    "    with open(f'{varos}.txt','wt') as f:\n",
    "        f.write(varos+'\\n')\n",
    "        for i, r in temp.iterrows():\n",
    "            f.write(f'{r.ora}:{r.perc} ' + r.szelseb * '#' + '\\n')\n",
    "print('A fájlok elkészültek.')        "
   ]
  }
 ],
 "metadata": {
  "kernelspec": {
   "display_name": "Python 3",
   "language": "python",
   "name": "python3"
  },
  "language_info": {
   "codemirror_mode": {
    "name": "ipython",
    "version": 3
   },
   "file_extension": ".py",
   "mimetype": "text/x-python",
   "name": "python",
   "nbconvert_exporter": "python",
   "pygments_lexer": "ipython3",
   "version": "3.7.7"
  }
 },
 "nbformat": 4,
 "nbformat_minor": 4
}
